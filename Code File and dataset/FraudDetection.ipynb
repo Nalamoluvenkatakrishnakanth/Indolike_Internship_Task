{
 "cells": [
  {
   "cell_type": "markdown",
   "id": "010b8dbc",
   "metadata": {},
   "source": [
    "### Summary"
   ]
  },
  {
   "cell_type": "markdown",
   "id": "6b1a4d4a",
   "metadata": {},
   "source": [
    "The datasets contains transactions made by credit cards in September 2013 by european cardholders. This dataset presents transactions that occurred in two days, where we have 492 frauds out of 284,807 transactions. The dataset is highly unbalanced, the positive class (frauds) account for 0.172% of all transactions.\n",
    "\n",
    "It contains only numerical input variables which are the result of a PCA transformation.\n",
    "\n",
    "Due to confidentiality issues, there are not provided the original features and more background information about the data.\n",
    "\n",
    "Features V1, V2, ... V28 are the principal components obtained with PCA; The only features which have not been transformed with PCA are Time and Amount. Feature Time contains the seconds elapsed between each transaction and the first transaction in the dataset. The feature Amount is the transaction Amount, this feature can be used for example-dependant cost-senstive learning. Feature Class is the response variable and it takes value 1 in case of fraud and 0 otherwise."
   ]
  },
  {
   "cell_type": "markdown",
   "id": "c26bb07e",
   "metadata": {},
   "source": [
    "# Importing Required Libraries"
   ]
  },
  {
   "cell_type": "code",
   "execution_count": 1,
   "id": "338d7598",
   "metadata": {},
   "outputs": [],
   "source": [
    "#Data Manipulation And Data Preparation\n",
    "import numpy as np\n",
    "import pandas as pd\n",
    "import matplotlib.pyplot as plt\n",
    "import seaborn as sns\n",
    "import warnings\n",
    "warnings.filterwarnings('ignore')\n",
    "import plotly.figure_factory as ff\n",
    "from plotly.offline import iplot\n",
    "\n",
    "\n",
    "# Machine Learning model Building and Evaluation\n",
    "from sklearn.preprocessing import StandardScaler,LabelEncoder\n",
    "from sklearn.linear_model import LogisticRegression\n",
    "from sklearn.model_selection import train_test_split\n",
    "from sklearn.metrics import classification_report, accuracy_score,confusion_matrix\n",
    "from imblearn.over_sampling import SMOTE\n",
    "import joblib\n"
   ]
  },
  {
   "cell_type": "markdown",
   "id": "663b8725",
   "metadata": {},
   "source": [
    "# Read The Dataset"
   ]
  },
  {
   "cell_type": "code",
   "execution_count": 2,
   "id": "ebd3b37f",
   "metadata": {},
   "outputs": [
    {
     "data": {
      "text/html": [
       "<div>\n",
       "<style scoped>\n",
       "    .dataframe tbody tr th:only-of-type {\n",
       "        vertical-align: middle;\n",
       "    }\n",
       "\n",
       "    .dataframe tbody tr th {\n",
       "        vertical-align: top;\n",
       "    }\n",
       "\n",
       "    .dataframe thead th {\n",
       "        text-align: right;\n",
       "    }\n",
       "</style>\n",
       "<table border=\"1\" class=\"dataframe\">\n",
       "  <thead>\n",
       "    <tr style=\"text-align: right;\">\n",
       "      <th></th>\n",
       "      <th>Time</th>\n",
       "      <th>V1</th>\n",
       "      <th>V2</th>\n",
       "      <th>V3</th>\n",
       "      <th>V4</th>\n",
       "      <th>V5</th>\n",
       "      <th>V6</th>\n",
       "      <th>V7</th>\n",
       "      <th>V8</th>\n",
       "      <th>V9</th>\n",
       "      <th>V10</th>\n",
       "      <th>V11</th>\n",
       "      <th>V12</th>\n",
       "      <th>V13</th>\n",
       "      <th>V14</th>\n",
       "      <th>V15</th>\n",
       "      <th>V16</th>\n",
       "      <th>V17</th>\n",
       "      <th>V18</th>\n",
       "      <th>V19</th>\n",
       "      <th>V20</th>\n",
       "      <th>V21</th>\n",
       "      <th>V22</th>\n",
       "      <th>V23</th>\n",
       "      <th>V24</th>\n",
       "      <th>V25</th>\n",
       "      <th>V26</th>\n",
       "      <th>V27</th>\n",
       "      <th>V28</th>\n",
       "      <th>Amount</th>\n",
       "      <th>Class</th>\n",
       "    </tr>\n",
       "  </thead>\n",
       "  <tbody>\n",
       "    <tr>\n",
       "      <th>0</th>\n",
       "      <td>0.0</td>\n",
       "      <td>-1.359807</td>\n",
       "      <td>-0.072781</td>\n",
       "      <td>2.536347</td>\n",
       "      <td>1.378155</td>\n",
       "      <td>-0.338321</td>\n",
       "      <td>0.462388</td>\n",
       "      <td>0.239599</td>\n",
       "      <td>0.098698</td>\n",
       "      <td>0.363787</td>\n",
       "      <td>0.090794</td>\n",
       "      <td>-0.551600</td>\n",
       "      <td>-0.617801</td>\n",
       "      <td>-0.991390</td>\n",
       "      <td>-0.311169</td>\n",
       "      <td>1.468177</td>\n",
       "      <td>-0.470401</td>\n",
       "      <td>0.207971</td>\n",
       "      <td>0.025791</td>\n",
       "      <td>0.403993</td>\n",
       "      <td>0.251412</td>\n",
       "      <td>-0.018307</td>\n",
       "      <td>0.277838</td>\n",
       "      <td>-0.110474</td>\n",
       "      <td>0.066928</td>\n",
       "      <td>0.128539</td>\n",
       "      <td>-0.189115</td>\n",
       "      <td>0.133558</td>\n",
       "      <td>-0.021053</td>\n",
       "      <td>149.62</td>\n",
       "      <td>0</td>\n",
       "    </tr>\n",
       "    <tr>\n",
       "      <th>1</th>\n",
       "      <td>0.0</td>\n",
       "      <td>1.191857</td>\n",
       "      <td>0.266151</td>\n",
       "      <td>0.166480</td>\n",
       "      <td>0.448154</td>\n",
       "      <td>0.060018</td>\n",
       "      <td>-0.082361</td>\n",
       "      <td>-0.078803</td>\n",
       "      <td>0.085102</td>\n",
       "      <td>-0.255425</td>\n",
       "      <td>-0.166974</td>\n",
       "      <td>1.612727</td>\n",
       "      <td>1.065235</td>\n",
       "      <td>0.489095</td>\n",
       "      <td>-0.143772</td>\n",
       "      <td>0.635558</td>\n",
       "      <td>0.463917</td>\n",
       "      <td>-0.114805</td>\n",
       "      <td>-0.183361</td>\n",
       "      <td>-0.145783</td>\n",
       "      <td>-0.069083</td>\n",
       "      <td>-0.225775</td>\n",
       "      <td>-0.638672</td>\n",
       "      <td>0.101288</td>\n",
       "      <td>-0.339846</td>\n",
       "      <td>0.167170</td>\n",
       "      <td>0.125895</td>\n",
       "      <td>-0.008983</td>\n",
       "      <td>0.014724</td>\n",
       "      <td>2.69</td>\n",
       "      <td>0</td>\n",
       "    </tr>\n",
       "    <tr>\n",
       "      <th>2</th>\n",
       "      <td>1.0</td>\n",
       "      <td>-1.358354</td>\n",
       "      <td>-1.340163</td>\n",
       "      <td>1.773209</td>\n",
       "      <td>0.379780</td>\n",
       "      <td>-0.503198</td>\n",
       "      <td>1.800499</td>\n",
       "      <td>0.791461</td>\n",
       "      <td>0.247676</td>\n",
       "      <td>-1.514654</td>\n",
       "      <td>0.207643</td>\n",
       "      <td>0.624501</td>\n",
       "      <td>0.066084</td>\n",
       "      <td>0.717293</td>\n",
       "      <td>-0.165946</td>\n",
       "      <td>2.345865</td>\n",
       "      <td>-2.890083</td>\n",
       "      <td>1.109969</td>\n",
       "      <td>-0.121359</td>\n",
       "      <td>-2.261857</td>\n",
       "      <td>0.524980</td>\n",
       "      <td>0.247998</td>\n",
       "      <td>0.771679</td>\n",
       "      <td>0.909412</td>\n",
       "      <td>-0.689281</td>\n",
       "      <td>-0.327642</td>\n",
       "      <td>-0.139097</td>\n",
       "      <td>-0.055353</td>\n",
       "      <td>-0.059752</td>\n",
       "      <td>378.66</td>\n",
       "      <td>0</td>\n",
       "    </tr>\n",
       "    <tr>\n",
       "      <th>3</th>\n",
       "      <td>1.0</td>\n",
       "      <td>-0.966272</td>\n",
       "      <td>-0.185226</td>\n",
       "      <td>1.792993</td>\n",
       "      <td>-0.863291</td>\n",
       "      <td>-0.010309</td>\n",
       "      <td>1.247203</td>\n",
       "      <td>0.237609</td>\n",
       "      <td>0.377436</td>\n",
       "      <td>-1.387024</td>\n",
       "      <td>-0.054952</td>\n",
       "      <td>-0.226487</td>\n",
       "      <td>0.178228</td>\n",
       "      <td>0.507757</td>\n",
       "      <td>-0.287924</td>\n",
       "      <td>-0.631418</td>\n",
       "      <td>-1.059647</td>\n",
       "      <td>-0.684093</td>\n",
       "      <td>1.965775</td>\n",
       "      <td>-1.232622</td>\n",
       "      <td>-0.208038</td>\n",
       "      <td>-0.108300</td>\n",
       "      <td>0.005274</td>\n",
       "      <td>-0.190321</td>\n",
       "      <td>-1.175575</td>\n",
       "      <td>0.647376</td>\n",
       "      <td>-0.221929</td>\n",
       "      <td>0.062723</td>\n",
       "      <td>0.061458</td>\n",
       "      <td>123.50</td>\n",
       "      <td>0</td>\n",
       "    </tr>\n",
       "    <tr>\n",
       "      <th>4</th>\n",
       "      <td>2.0</td>\n",
       "      <td>-1.158233</td>\n",
       "      <td>0.877737</td>\n",
       "      <td>1.548718</td>\n",
       "      <td>0.403034</td>\n",
       "      <td>-0.407193</td>\n",
       "      <td>0.095921</td>\n",
       "      <td>0.592941</td>\n",
       "      <td>-0.270533</td>\n",
       "      <td>0.817739</td>\n",
       "      <td>0.753074</td>\n",
       "      <td>-0.822843</td>\n",
       "      <td>0.538196</td>\n",
       "      <td>1.345852</td>\n",
       "      <td>-1.119670</td>\n",
       "      <td>0.175121</td>\n",
       "      <td>-0.451449</td>\n",
       "      <td>-0.237033</td>\n",
       "      <td>-0.038195</td>\n",
       "      <td>0.803487</td>\n",
       "      <td>0.408542</td>\n",
       "      <td>-0.009431</td>\n",
       "      <td>0.798278</td>\n",
       "      <td>-0.137458</td>\n",
       "      <td>0.141267</td>\n",
       "      <td>-0.206010</td>\n",
       "      <td>0.502292</td>\n",
       "      <td>0.219422</td>\n",
       "      <td>0.215153</td>\n",
       "      <td>69.99</td>\n",
       "      <td>0</td>\n",
       "    </tr>\n",
       "    <tr>\n",
       "      <th>5</th>\n",
       "      <td>2.0</td>\n",
       "      <td>-0.425966</td>\n",
       "      <td>0.960523</td>\n",
       "      <td>1.141109</td>\n",
       "      <td>-0.168252</td>\n",
       "      <td>0.420987</td>\n",
       "      <td>-0.029728</td>\n",
       "      <td>0.476201</td>\n",
       "      <td>0.260314</td>\n",
       "      <td>-0.568671</td>\n",
       "      <td>-0.371407</td>\n",
       "      <td>1.341262</td>\n",
       "      <td>0.359894</td>\n",
       "      <td>-0.358091</td>\n",
       "      <td>-0.137134</td>\n",
       "      <td>0.517617</td>\n",
       "      <td>0.401726</td>\n",
       "      <td>-0.058133</td>\n",
       "      <td>0.068653</td>\n",
       "      <td>-0.033194</td>\n",
       "      <td>0.084968</td>\n",
       "      <td>-0.208254</td>\n",
       "      <td>-0.559825</td>\n",
       "      <td>-0.026398</td>\n",
       "      <td>-0.371427</td>\n",
       "      <td>-0.232794</td>\n",
       "      <td>0.105915</td>\n",
       "      <td>0.253844</td>\n",
       "      <td>0.081080</td>\n",
       "      <td>3.67</td>\n",
       "      <td>0</td>\n",
       "    </tr>\n",
       "    <tr>\n",
       "      <th>6</th>\n",
       "      <td>4.0</td>\n",
       "      <td>1.229658</td>\n",
       "      <td>0.141004</td>\n",
       "      <td>0.045371</td>\n",
       "      <td>1.202613</td>\n",
       "      <td>0.191881</td>\n",
       "      <td>0.272708</td>\n",
       "      <td>-0.005159</td>\n",
       "      <td>0.081213</td>\n",
       "      <td>0.464960</td>\n",
       "      <td>-0.099254</td>\n",
       "      <td>-1.416907</td>\n",
       "      <td>-0.153826</td>\n",
       "      <td>-0.751063</td>\n",
       "      <td>0.167372</td>\n",
       "      <td>0.050144</td>\n",
       "      <td>-0.443587</td>\n",
       "      <td>0.002821</td>\n",
       "      <td>-0.611987</td>\n",
       "      <td>-0.045575</td>\n",
       "      <td>-0.219633</td>\n",
       "      <td>-0.167716</td>\n",
       "      <td>-0.270710</td>\n",
       "      <td>-0.154104</td>\n",
       "      <td>-0.780055</td>\n",
       "      <td>0.750137</td>\n",
       "      <td>-0.257237</td>\n",
       "      <td>0.034507</td>\n",
       "      <td>0.005168</td>\n",
       "      <td>4.99</td>\n",
       "      <td>0</td>\n",
       "    </tr>\n",
       "    <tr>\n",
       "      <th>7</th>\n",
       "      <td>7.0</td>\n",
       "      <td>-0.644269</td>\n",
       "      <td>1.417964</td>\n",
       "      <td>1.074380</td>\n",
       "      <td>-0.492199</td>\n",
       "      <td>0.948934</td>\n",
       "      <td>0.428118</td>\n",
       "      <td>1.120631</td>\n",
       "      <td>-3.807864</td>\n",
       "      <td>0.615375</td>\n",
       "      <td>1.249376</td>\n",
       "      <td>-0.619468</td>\n",
       "      <td>0.291474</td>\n",
       "      <td>1.757964</td>\n",
       "      <td>-1.323865</td>\n",
       "      <td>0.686133</td>\n",
       "      <td>-0.076127</td>\n",
       "      <td>-1.222127</td>\n",
       "      <td>-0.358222</td>\n",
       "      <td>0.324505</td>\n",
       "      <td>-0.156742</td>\n",
       "      <td>1.943465</td>\n",
       "      <td>-1.015455</td>\n",
       "      <td>0.057504</td>\n",
       "      <td>-0.649709</td>\n",
       "      <td>-0.415267</td>\n",
       "      <td>-0.051634</td>\n",
       "      <td>-1.206921</td>\n",
       "      <td>-1.085339</td>\n",
       "      <td>40.80</td>\n",
       "      <td>0</td>\n",
       "    </tr>\n",
       "    <tr>\n",
       "      <th>8</th>\n",
       "      <td>7.0</td>\n",
       "      <td>-0.894286</td>\n",
       "      <td>0.286157</td>\n",
       "      <td>-0.113192</td>\n",
       "      <td>-0.271526</td>\n",
       "      <td>2.669599</td>\n",
       "      <td>3.721818</td>\n",
       "      <td>0.370145</td>\n",
       "      <td>0.851084</td>\n",
       "      <td>-0.392048</td>\n",
       "      <td>-0.410430</td>\n",
       "      <td>-0.705117</td>\n",
       "      <td>-0.110452</td>\n",
       "      <td>-0.286254</td>\n",
       "      <td>0.074355</td>\n",
       "      <td>-0.328783</td>\n",
       "      <td>-0.210077</td>\n",
       "      <td>-0.499768</td>\n",
       "      <td>0.118765</td>\n",
       "      <td>0.570328</td>\n",
       "      <td>0.052736</td>\n",
       "      <td>-0.073425</td>\n",
       "      <td>-0.268092</td>\n",
       "      <td>-0.204233</td>\n",
       "      <td>1.011592</td>\n",
       "      <td>0.373205</td>\n",
       "      <td>-0.384157</td>\n",
       "      <td>0.011747</td>\n",
       "      <td>0.142404</td>\n",
       "      <td>93.20</td>\n",
       "      <td>0</td>\n",
       "    </tr>\n",
       "    <tr>\n",
       "      <th>9</th>\n",
       "      <td>9.0</td>\n",
       "      <td>-0.338262</td>\n",
       "      <td>1.119593</td>\n",
       "      <td>1.044367</td>\n",
       "      <td>-0.222187</td>\n",
       "      <td>0.499361</td>\n",
       "      <td>-0.246761</td>\n",
       "      <td>0.651583</td>\n",
       "      <td>0.069539</td>\n",
       "      <td>-0.736727</td>\n",
       "      <td>-0.366846</td>\n",
       "      <td>1.017614</td>\n",
       "      <td>0.836390</td>\n",
       "      <td>1.006844</td>\n",
       "      <td>-0.443523</td>\n",
       "      <td>0.150219</td>\n",
       "      <td>0.739453</td>\n",
       "      <td>-0.540980</td>\n",
       "      <td>0.476677</td>\n",
       "      <td>0.451773</td>\n",
       "      <td>0.203711</td>\n",
       "      <td>-0.246914</td>\n",
       "      <td>-0.633753</td>\n",
       "      <td>-0.120794</td>\n",
       "      <td>-0.385050</td>\n",
       "      <td>-0.069733</td>\n",
       "      <td>0.094199</td>\n",
       "      <td>0.246219</td>\n",
       "      <td>0.083076</td>\n",
       "      <td>3.68</td>\n",
       "      <td>0</td>\n",
       "    </tr>\n",
       "    <tr>\n",
       "      <th>10</th>\n",
       "      <td>10.0</td>\n",
       "      <td>1.449044</td>\n",
       "      <td>-1.176339</td>\n",
       "      <td>0.913860</td>\n",
       "      <td>-1.375667</td>\n",
       "      <td>-1.971383</td>\n",
       "      <td>-0.629152</td>\n",
       "      <td>-1.423236</td>\n",
       "      <td>0.048456</td>\n",
       "      <td>-1.720408</td>\n",
       "      <td>1.626659</td>\n",
       "      <td>1.199644</td>\n",
       "      <td>-0.671440</td>\n",
       "      <td>-0.513947</td>\n",
       "      <td>-0.095045</td>\n",
       "      <td>0.230930</td>\n",
       "      <td>0.031967</td>\n",
       "      <td>0.253415</td>\n",
       "      <td>0.854344</td>\n",
       "      <td>-0.221365</td>\n",
       "      <td>-0.387226</td>\n",
       "      <td>-0.009302</td>\n",
       "      <td>0.313894</td>\n",
       "      <td>0.027740</td>\n",
       "      <td>0.500512</td>\n",
       "      <td>0.251367</td>\n",
       "      <td>-0.129478</td>\n",
       "      <td>0.042850</td>\n",
       "      <td>0.016253</td>\n",
       "      <td>7.80</td>\n",
       "      <td>0</td>\n",
       "    </tr>\n",
       "    <tr>\n",
       "      <th>11</th>\n",
       "      <td>10.0</td>\n",
       "      <td>0.384978</td>\n",
       "      <td>0.616109</td>\n",
       "      <td>-0.874300</td>\n",
       "      <td>-0.094019</td>\n",
       "      <td>2.924584</td>\n",
       "      <td>3.317027</td>\n",
       "      <td>0.470455</td>\n",
       "      <td>0.538247</td>\n",
       "      <td>-0.558895</td>\n",
       "      <td>0.309755</td>\n",
       "      <td>-0.259116</td>\n",
       "      <td>-0.326143</td>\n",
       "      <td>-0.090047</td>\n",
       "      <td>0.362832</td>\n",
       "      <td>0.928904</td>\n",
       "      <td>-0.129487</td>\n",
       "      <td>-0.809979</td>\n",
       "      <td>0.359985</td>\n",
       "      <td>0.707664</td>\n",
       "      <td>0.125992</td>\n",
       "      <td>0.049924</td>\n",
       "      <td>0.238422</td>\n",
       "      <td>0.009130</td>\n",
       "      <td>0.996710</td>\n",
       "      <td>-0.767315</td>\n",
       "      <td>-0.492208</td>\n",
       "      <td>0.042472</td>\n",
       "      <td>-0.054337</td>\n",
       "      <td>9.99</td>\n",
       "      <td>0</td>\n",
       "    </tr>\n",
       "    <tr>\n",
       "      <th>12</th>\n",
       "      <td>10.0</td>\n",
       "      <td>1.249999</td>\n",
       "      <td>-1.221637</td>\n",
       "      <td>0.383930</td>\n",
       "      <td>-1.234899</td>\n",
       "      <td>-1.485419</td>\n",
       "      <td>-0.753230</td>\n",
       "      <td>-0.689405</td>\n",
       "      <td>-0.227487</td>\n",
       "      <td>-2.094011</td>\n",
       "      <td>1.323729</td>\n",
       "      <td>0.227666</td>\n",
       "      <td>-0.242682</td>\n",
       "      <td>1.205417</td>\n",
       "      <td>-0.317631</td>\n",
       "      <td>0.725675</td>\n",
       "      <td>-0.815612</td>\n",
       "      <td>0.873936</td>\n",
       "      <td>-0.847789</td>\n",
       "      <td>-0.683193</td>\n",
       "      <td>-0.102756</td>\n",
       "      <td>-0.231809</td>\n",
       "      <td>-0.483285</td>\n",
       "      <td>0.084668</td>\n",
       "      <td>0.392831</td>\n",
       "      <td>0.161135</td>\n",
       "      <td>-0.354990</td>\n",
       "      <td>0.026416</td>\n",
       "      <td>0.042422</td>\n",
       "      <td>121.50</td>\n",
       "      <td>0</td>\n",
       "    </tr>\n",
       "    <tr>\n",
       "      <th>13</th>\n",
       "      <td>11.0</td>\n",
       "      <td>1.069374</td>\n",
       "      <td>0.287722</td>\n",
       "      <td>0.828613</td>\n",
       "      <td>2.712520</td>\n",
       "      <td>-0.178398</td>\n",
       "      <td>0.337544</td>\n",
       "      <td>-0.096717</td>\n",
       "      <td>0.115982</td>\n",
       "      <td>-0.221083</td>\n",
       "      <td>0.460230</td>\n",
       "      <td>-0.773657</td>\n",
       "      <td>0.323387</td>\n",
       "      <td>-0.011076</td>\n",
       "      <td>-0.178485</td>\n",
       "      <td>-0.655564</td>\n",
       "      <td>-0.199925</td>\n",
       "      <td>0.124005</td>\n",
       "      <td>-0.980496</td>\n",
       "      <td>-0.982916</td>\n",
       "      <td>-0.153197</td>\n",
       "      <td>-0.036876</td>\n",
       "      <td>0.074412</td>\n",
       "      <td>-0.071407</td>\n",
       "      <td>0.104744</td>\n",
       "      <td>0.548265</td>\n",
       "      <td>0.104094</td>\n",
       "      <td>0.021491</td>\n",
       "      <td>0.021293</td>\n",
       "      <td>27.50</td>\n",
       "      <td>0</td>\n",
       "    </tr>\n",
       "    <tr>\n",
       "      <th>14</th>\n",
       "      <td>12.0</td>\n",
       "      <td>-2.791855</td>\n",
       "      <td>-0.327771</td>\n",
       "      <td>1.641750</td>\n",
       "      <td>1.767473</td>\n",
       "      <td>-0.136588</td>\n",
       "      <td>0.807596</td>\n",
       "      <td>-0.422911</td>\n",
       "      <td>-1.907107</td>\n",
       "      <td>0.755713</td>\n",
       "      <td>1.151087</td>\n",
       "      <td>0.844555</td>\n",
       "      <td>0.792944</td>\n",
       "      <td>0.370448</td>\n",
       "      <td>-0.734975</td>\n",
       "      <td>0.406796</td>\n",
       "      <td>-0.303058</td>\n",
       "      <td>-0.155869</td>\n",
       "      <td>0.778265</td>\n",
       "      <td>2.221868</td>\n",
       "      <td>-1.582122</td>\n",
       "      <td>1.151663</td>\n",
       "      <td>0.222182</td>\n",
       "      <td>1.020586</td>\n",
       "      <td>0.028317</td>\n",
       "      <td>-0.232746</td>\n",
       "      <td>-0.235557</td>\n",
       "      <td>-0.164778</td>\n",
       "      <td>-0.030154</td>\n",
       "      <td>58.80</td>\n",
       "      <td>0</td>\n",
       "    </tr>\n",
       "    <tr>\n",
       "      <th>15</th>\n",
       "      <td>12.0</td>\n",
       "      <td>-0.752417</td>\n",
       "      <td>0.345485</td>\n",
       "      <td>2.057323</td>\n",
       "      <td>-1.468643</td>\n",
       "      <td>-1.158394</td>\n",
       "      <td>-0.077850</td>\n",
       "      <td>-0.608581</td>\n",
       "      <td>0.003603</td>\n",
       "      <td>-0.436167</td>\n",
       "      <td>0.747731</td>\n",
       "      <td>-0.793981</td>\n",
       "      <td>-0.770407</td>\n",
       "      <td>1.047627</td>\n",
       "      <td>-1.066604</td>\n",
       "      <td>1.106953</td>\n",
       "      <td>1.660114</td>\n",
       "      <td>-0.279265</td>\n",
       "      <td>-0.419994</td>\n",
       "      <td>0.432535</td>\n",
       "      <td>0.263451</td>\n",
       "      <td>0.499625</td>\n",
       "      <td>1.353650</td>\n",
       "      <td>-0.256573</td>\n",
       "      <td>-0.065084</td>\n",
       "      <td>-0.039124</td>\n",
       "      <td>-0.087086</td>\n",
       "      <td>-0.180998</td>\n",
       "      <td>0.129394</td>\n",
       "      <td>15.99</td>\n",
       "      <td>0</td>\n",
       "    </tr>\n",
       "  </tbody>\n",
       "</table>\n",
       "</div>"
      ],
      "text/plain": [
       "    Time        V1        V2        V3        V4        V5        V6  \\\n",
       "0    0.0 -1.359807 -0.072781  2.536347  1.378155 -0.338321  0.462388   \n",
       "1    0.0  1.191857  0.266151  0.166480  0.448154  0.060018 -0.082361   \n",
       "2    1.0 -1.358354 -1.340163  1.773209  0.379780 -0.503198  1.800499   \n",
       "3    1.0 -0.966272 -0.185226  1.792993 -0.863291 -0.010309  1.247203   \n",
       "4    2.0 -1.158233  0.877737  1.548718  0.403034 -0.407193  0.095921   \n",
       "5    2.0 -0.425966  0.960523  1.141109 -0.168252  0.420987 -0.029728   \n",
       "6    4.0  1.229658  0.141004  0.045371  1.202613  0.191881  0.272708   \n",
       "7    7.0 -0.644269  1.417964  1.074380 -0.492199  0.948934  0.428118   \n",
       "8    7.0 -0.894286  0.286157 -0.113192 -0.271526  2.669599  3.721818   \n",
       "9    9.0 -0.338262  1.119593  1.044367 -0.222187  0.499361 -0.246761   \n",
       "10  10.0  1.449044 -1.176339  0.913860 -1.375667 -1.971383 -0.629152   \n",
       "11  10.0  0.384978  0.616109 -0.874300 -0.094019  2.924584  3.317027   \n",
       "12  10.0  1.249999 -1.221637  0.383930 -1.234899 -1.485419 -0.753230   \n",
       "13  11.0  1.069374  0.287722  0.828613  2.712520 -0.178398  0.337544   \n",
       "14  12.0 -2.791855 -0.327771  1.641750  1.767473 -0.136588  0.807596   \n",
       "15  12.0 -0.752417  0.345485  2.057323 -1.468643 -1.158394 -0.077850   \n",
       "\n",
       "          V7        V8        V9       V10       V11       V12       V13  \\\n",
       "0   0.239599  0.098698  0.363787  0.090794 -0.551600 -0.617801 -0.991390   \n",
       "1  -0.078803  0.085102 -0.255425 -0.166974  1.612727  1.065235  0.489095   \n",
       "2   0.791461  0.247676 -1.514654  0.207643  0.624501  0.066084  0.717293   \n",
       "3   0.237609  0.377436 -1.387024 -0.054952 -0.226487  0.178228  0.507757   \n",
       "4   0.592941 -0.270533  0.817739  0.753074 -0.822843  0.538196  1.345852   \n",
       "5   0.476201  0.260314 -0.568671 -0.371407  1.341262  0.359894 -0.358091   \n",
       "6  -0.005159  0.081213  0.464960 -0.099254 -1.416907 -0.153826 -0.751063   \n",
       "7   1.120631 -3.807864  0.615375  1.249376 -0.619468  0.291474  1.757964   \n",
       "8   0.370145  0.851084 -0.392048 -0.410430 -0.705117 -0.110452 -0.286254   \n",
       "9   0.651583  0.069539 -0.736727 -0.366846  1.017614  0.836390  1.006844   \n",
       "10 -1.423236  0.048456 -1.720408  1.626659  1.199644 -0.671440 -0.513947   \n",
       "11  0.470455  0.538247 -0.558895  0.309755 -0.259116 -0.326143 -0.090047   \n",
       "12 -0.689405 -0.227487 -2.094011  1.323729  0.227666 -0.242682  1.205417   \n",
       "13 -0.096717  0.115982 -0.221083  0.460230 -0.773657  0.323387 -0.011076   \n",
       "14 -0.422911 -1.907107  0.755713  1.151087  0.844555  0.792944  0.370448   \n",
       "15 -0.608581  0.003603 -0.436167  0.747731 -0.793981 -0.770407  1.047627   \n",
       "\n",
       "         V14       V15       V16       V17       V18       V19       V20  \\\n",
       "0  -0.311169  1.468177 -0.470401  0.207971  0.025791  0.403993  0.251412   \n",
       "1  -0.143772  0.635558  0.463917 -0.114805 -0.183361 -0.145783 -0.069083   \n",
       "2  -0.165946  2.345865 -2.890083  1.109969 -0.121359 -2.261857  0.524980   \n",
       "3  -0.287924 -0.631418 -1.059647 -0.684093  1.965775 -1.232622 -0.208038   \n",
       "4  -1.119670  0.175121 -0.451449 -0.237033 -0.038195  0.803487  0.408542   \n",
       "5  -0.137134  0.517617  0.401726 -0.058133  0.068653 -0.033194  0.084968   \n",
       "6   0.167372  0.050144 -0.443587  0.002821 -0.611987 -0.045575 -0.219633   \n",
       "7  -1.323865  0.686133 -0.076127 -1.222127 -0.358222  0.324505 -0.156742   \n",
       "8   0.074355 -0.328783 -0.210077 -0.499768  0.118765  0.570328  0.052736   \n",
       "9  -0.443523  0.150219  0.739453 -0.540980  0.476677  0.451773  0.203711   \n",
       "10 -0.095045  0.230930  0.031967  0.253415  0.854344 -0.221365 -0.387226   \n",
       "11  0.362832  0.928904 -0.129487 -0.809979  0.359985  0.707664  0.125992   \n",
       "12 -0.317631  0.725675 -0.815612  0.873936 -0.847789 -0.683193 -0.102756   \n",
       "13 -0.178485 -0.655564 -0.199925  0.124005 -0.980496 -0.982916 -0.153197   \n",
       "14 -0.734975  0.406796 -0.303058 -0.155869  0.778265  2.221868 -1.582122   \n",
       "15 -1.066604  1.106953  1.660114 -0.279265 -0.419994  0.432535  0.263451   \n",
       "\n",
       "         V21       V22       V23       V24       V25       V26       V27  \\\n",
       "0  -0.018307  0.277838 -0.110474  0.066928  0.128539 -0.189115  0.133558   \n",
       "1  -0.225775 -0.638672  0.101288 -0.339846  0.167170  0.125895 -0.008983   \n",
       "2   0.247998  0.771679  0.909412 -0.689281 -0.327642 -0.139097 -0.055353   \n",
       "3  -0.108300  0.005274 -0.190321 -1.175575  0.647376 -0.221929  0.062723   \n",
       "4  -0.009431  0.798278 -0.137458  0.141267 -0.206010  0.502292  0.219422   \n",
       "5  -0.208254 -0.559825 -0.026398 -0.371427 -0.232794  0.105915  0.253844   \n",
       "6  -0.167716 -0.270710 -0.154104 -0.780055  0.750137 -0.257237  0.034507   \n",
       "7   1.943465 -1.015455  0.057504 -0.649709 -0.415267 -0.051634 -1.206921   \n",
       "8  -0.073425 -0.268092 -0.204233  1.011592  0.373205 -0.384157  0.011747   \n",
       "9  -0.246914 -0.633753 -0.120794 -0.385050 -0.069733  0.094199  0.246219   \n",
       "10 -0.009302  0.313894  0.027740  0.500512  0.251367 -0.129478  0.042850   \n",
       "11  0.049924  0.238422  0.009130  0.996710 -0.767315 -0.492208  0.042472   \n",
       "12 -0.231809 -0.483285  0.084668  0.392831  0.161135 -0.354990  0.026416   \n",
       "13 -0.036876  0.074412 -0.071407  0.104744  0.548265  0.104094  0.021491   \n",
       "14  1.151663  0.222182  1.020586  0.028317 -0.232746 -0.235557 -0.164778   \n",
       "15  0.499625  1.353650 -0.256573 -0.065084 -0.039124 -0.087086 -0.180998   \n",
       "\n",
       "         V28  Amount  Class  \n",
       "0  -0.021053  149.62      0  \n",
       "1   0.014724    2.69      0  \n",
       "2  -0.059752  378.66      0  \n",
       "3   0.061458  123.50      0  \n",
       "4   0.215153   69.99      0  \n",
       "5   0.081080    3.67      0  \n",
       "6   0.005168    4.99      0  \n",
       "7  -1.085339   40.80      0  \n",
       "8   0.142404   93.20      0  \n",
       "9   0.083076    3.68      0  \n",
       "10  0.016253    7.80      0  \n",
       "11 -0.054337    9.99      0  \n",
       "12  0.042422  121.50      0  \n",
       "13  0.021293   27.50      0  \n",
       "14 -0.030154   58.80      0  \n",
       "15  0.129394   15.99      0  "
      ]
     },
     "execution_count": 2,
     "metadata": {},
     "output_type": "execute_result"
    }
   ],
   "source": [
    "# Here i am importing the dataset from my resource that has been in the csv formate.\n",
    "\n",
    "data = pd.read_csv(r\"C:\\Users\\HP\\OneDrive\\Desktop\\CodeClause\\Fraud Detedction Project\\Dataset\\creditcard.csv\")\n",
    "pd.set_option(\"display.max_columns\",None)\n",
    "data.head(16)"
   ]
  },
  {
   "cell_type": "markdown",
   "id": "55f80d62",
   "metadata": {},
   "source": [
    "# Data Cleaning"
   ]
  },
  {
   "cell_type": "code",
   "execution_count": 3,
   "id": "e8e86279",
   "metadata": {},
   "outputs": [
    {
     "data": {
      "text/plain": [
       "(284807, 31)"
      ]
     },
     "execution_count": 3,
     "metadata": {},
     "output_type": "execute_result"
    }
   ],
   "source": [
    "#Checking the dataset dimensionality\n",
    "\n",
    "data.shape"
   ]
  },
  {
   "cell_type": "code",
   "execution_count": 4,
   "id": "91f4546c",
   "metadata": {},
   "outputs": [
    {
     "name": "stdout",
     "output_type": "stream",
     "text": [
      "<class 'pandas.core.frame.DataFrame'>\n",
      "RangeIndex: 284807 entries, 0 to 284806\n",
      "Data columns (total 31 columns):\n",
      " #   Column  Non-Null Count   Dtype  \n",
      "---  ------  --------------   -----  \n",
      " 0   Time    284807 non-null  float64\n",
      " 1   V1      284807 non-null  float64\n",
      " 2   V2      284807 non-null  float64\n",
      " 3   V3      284807 non-null  float64\n",
      " 4   V4      284807 non-null  float64\n",
      " 5   V5      284807 non-null  float64\n",
      " 6   V6      284807 non-null  float64\n",
      " 7   V7      284807 non-null  float64\n",
      " 8   V8      284807 non-null  float64\n",
      " 9   V9      284807 non-null  float64\n",
      " 10  V10     284807 non-null  float64\n",
      " 11  V11     284807 non-null  float64\n",
      " 12  V12     284807 non-null  float64\n",
      " 13  V13     284807 non-null  float64\n",
      " 14  V14     284807 non-null  float64\n",
      " 15  V15     284807 non-null  float64\n",
      " 16  V16     284807 non-null  float64\n",
      " 17  V17     284807 non-null  float64\n",
      " 18  V18     284807 non-null  float64\n",
      " 19  V19     284807 non-null  float64\n",
      " 20  V20     284807 non-null  float64\n",
      " 21  V21     284807 non-null  float64\n",
      " 22  V22     284807 non-null  float64\n",
      " 23  V23     284807 non-null  float64\n",
      " 24  V24     284807 non-null  float64\n",
      " 25  V25     284807 non-null  float64\n",
      " 26  V26     284807 non-null  float64\n",
      " 27  V27     284807 non-null  float64\n",
      " 28  V28     284807 non-null  float64\n",
      " 29  Amount  284807 non-null  float64\n",
      " 30  Class   284807 non-null  int64  \n",
      "dtypes: float64(30), int64(1)\n",
      "memory usage: 67.4 MB\n"
     ]
    }
   ],
   "source": [
    "#checking dataset what type of data is contain which has a categorical or numerical\n",
    "\n",
    "data.info()"
   ]
  },
  {
   "cell_type": "markdown",
   "id": "396d6718",
   "metadata": {},
   "source": [
    "So here the data has been in numerical formate, no need to check misformating in the dataset"
   ]
  },
  {
   "cell_type": "code",
   "execution_count": 5,
   "id": "cc9bf8ce",
   "metadata": {},
   "outputs": [
    {
     "data": {
      "text/html": [
       "<div>\n",
       "<style scoped>\n",
       "    .dataframe tbody tr th:only-of-type {\n",
       "        vertical-align: middle;\n",
       "    }\n",
       "\n",
       "    .dataframe tbody tr th {\n",
       "        vertical-align: top;\n",
       "    }\n",
       "\n",
       "    .dataframe thead th {\n",
       "        text-align: right;\n",
       "    }\n",
       "</style>\n",
       "<table border=\"1\" class=\"dataframe\">\n",
       "  <thead>\n",
       "    <tr style=\"text-align: right;\">\n",
       "      <th></th>\n",
       "      <th>Time</th>\n",
       "      <th>Amount</th>\n",
       "      <th>Class</th>\n",
       "    </tr>\n",
       "  </thead>\n",
       "  <tbody>\n",
       "    <tr>\n",
       "      <th>count</th>\n",
       "      <td>284807.000000</td>\n",
       "      <td>284807.000000</td>\n",
       "      <td>284807.000000</td>\n",
       "    </tr>\n",
       "    <tr>\n",
       "      <th>mean</th>\n",
       "      <td>94813.859575</td>\n",
       "      <td>88.349619</td>\n",
       "      <td>0.001727</td>\n",
       "    </tr>\n",
       "    <tr>\n",
       "      <th>std</th>\n",
       "      <td>47488.145955</td>\n",
       "      <td>250.120109</td>\n",
       "      <td>0.041527</td>\n",
       "    </tr>\n",
       "    <tr>\n",
       "      <th>min</th>\n",
       "      <td>0.000000</td>\n",
       "      <td>0.000000</td>\n",
       "      <td>0.000000</td>\n",
       "    </tr>\n",
       "    <tr>\n",
       "      <th>25%</th>\n",
       "      <td>54201.500000</td>\n",
       "      <td>5.600000</td>\n",
       "      <td>0.000000</td>\n",
       "    </tr>\n",
       "    <tr>\n",
       "      <th>50%</th>\n",
       "      <td>84692.000000</td>\n",
       "      <td>22.000000</td>\n",
       "      <td>0.000000</td>\n",
       "    </tr>\n",
       "    <tr>\n",
       "      <th>75%</th>\n",
       "      <td>139320.500000</td>\n",
       "      <td>77.165000</td>\n",
       "      <td>0.000000</td>\n",
       "    </tr>\n",
       "    <tr>\n",
       "      <th>max</th>\n",
       "      <td>172792.000000</td>\n",
       "      <td>25691.160000</td>\n",
       "      <td>1.000000</td>\n",
       "    </tr>\n",
       "  </tbody>\n",
       "</table>\n",
       "</div>"
      ],
      "text/plain": [
       "                Time         Amount          Class\n",
       "count  284807.000000  284807.000000  284807.000000\n",
       "mean    94813.859575      88.349619       0.001727\n",
       "std     47488.145955     250.120109       0.041527\n",
       "min         0.000000       0.000000       0.000000\n",
       "25%     54201.500000       5.600000       0.000000\n",
       "50%     84692.000000      22.000000       0.000000\n",
       "75%    139320.500000      77.165000       0.000000\n",
       "max    172792.000000   25691.160000       1.000000"
      ]
     },
     "execution_count": 5,
     "metadata": {},
     "output_type": "execute_result"
    }
   ],
   "source": [
    "data[['Time','Amount','Class']].describe()"
   ]
  },
  {
   "cell_type": "markdown",
   "id": "77d6cc42",
   "metadata": {},
   "source": [
    "#### Let's check if there is eany missing data"
   ]
  },
  {
   "cell_type": "code",
   "execution_count": 6,
   "id": "c00463b3",
   "metadata": {},
   "outputs": [
    {
     "data": {
      "text/html": [
       "<div>\n",
       "<style scoped>\n",
       "    .dataframe tbody tr th:only-of-type {\n",
       "        vertical-align: middle;\n",
       "    }\n",
       "\n",
       "    .dataframe tbody tr th {\n",
       "        vertical-align: top;\n",
       "    }\n",
       "\n",
       "    .dataframe thead th {\n",
       "        text-align: right;\n",
       "    }\n",
       "</style>\n",
       "<table border=\"1\" class=\"dataframe\">\n",
       "  <thead>\n",
       "    <tr style=\"text-align: right;\">\n",
       "      <th></th>\n",
       "      <th>Time</th>\n",
       "      <th>V16</th>\n",
       "      <th>Amount</th>\n",
       "      <th>V28</th>\n",
       "      <th>V27</th>\n",
       "      <th>V26</th>\n",
       "      <th>V25</th>\n",
       "      <th>V24</th>\n",
       "      <th>V23</th>\n",
       "      <th>V22</th>\n",
       "      <th>V21</th>\n",
       "      <th>V20</th>\n",
       "      <th>V19</th>\n",
       "      <th>V18</th>\n",
       "      <th>V17</th>\n",
       "      <th>V15</th>\n",
       "      <th>V1</th>\n",
       "      <th>V14</th>\n",
       "      <th>V13</th>\n",
       "      <th>V12</th>\n",
       "      <th>V11</th>\n",
       "      <th>V10</th>\n",
       "      <th>V9</th>\n",
       "      <th>V8</th>\n",
       "      <th>V7</th>\n",
       "      <th>V6</th>\n",
       "      <th>V5</th>\n",
       "      <th>V4</th>\n",
       "      <th>V3</th>\n",
       "      <th>V2</th>\n",
       "      <th>Class</th>\n",
       "    </tr>\n",
       "  </thead>\n",
       "  <tbody>\n",
       "    <tr>\n",
       "      <th>Total</th>\n",
       "      <td>0.0</td>\n",
       "      <td>0.0</td>\n",
       "      <td>0.0</td>\n",
       "      <td>0.0</td>\n",
       "      <td>0.0</td>\n",
       "      <td>0.0</td>\n",
       "      <td>0.0</td>\n",
       "      <td>0.0</td>\n",
       "      <td>0.0</td>\n",
       "      <td>0.0</td>\n",
       "      <td>0.0</td>\n",
       "      <td>0.0</td>\n",
       "      <td>0.0</td>\n",
       "      <td>0.0</td>\n",
       "      <td>0.0</td>\n",
       "      <td>0.0</td>\n",
       "      <td>0.0</td>\n",
       "      <td>0.0</td>\n",
       "      <td>0.0</td>\n",
       "      <td>0.0</td>\n",
       "      <td>0.0</td>\n",
       "      <td>0.0</td>\n",
       "      <td>0.0</td>\n",
       "      <td>0.0</td>\n",
       "      <td>0.0</td>\n",
       "      <td>0.0</td>\n",
       "      <td>0.0</td>\n",
       "      <td>0.0</td>\n",
       "      <td>0.0</td>\n",
       "      <td>0.0</td>\n",
       "      <td>0.0</td>\n",
       "    </tr>\n",
       "    <tr>\n",
       "      <th>Percent</th>\n",
       "      <td>0.0</td>\n",
       "      <td>0.0</td>\n",
       "      <td>0.0</td>\n",
       "      <td>0.0</td>\n",
       "      <td>0.0</td>\n",
       "      <td>0.0</td>\n",
       "      <td>0.0</td>\n",
       "      <td>0.0</td>\n",
       "      <td>0.0</td>\n",
       "      <td>0.0</td>\n",
       "      <td>0.0</td>\n",
       "      <td>0.0</td>\n",
       "      <td>0.0</td>\n",
       "      <td>0.0</td>\n",
       "      <td>0.0</td>\n",
       "      <td>0.0</td>\n",
       "      <td>0.0</td>\n",
       "      <td>0.0</td>\n",
       "      <td>0.0</td>\n",
       "      <td>0.0</td>\n",
       "      <td>0.0</td>\n",
       "      <td>0.0</td>\n",
       "      <td>0.0</td>\n",
       "      <td>0.0</td>\n",
       "      <td>0.0</td>\n",
       "      <td>0.0</td>\n",
       "      <td>0.0</td>\n",
       "      <td>0.0</td>\n",
       "      <td>0.0</td>\n",
       "      <td>0.0</td>\n",
       "      <td>0.0</td>\n",
       "    </tr>\n",
       "  </tbody>\n",
       "</table>\n",
       "</div>"
      ],
      "text/plain": [
       "         Time  V16  Amount  V28  V27  V26  V25  V24  V23  V22  V21  V20  V19  \\\n",
       "Total     0.0  0.0     0.0  0.0  0.0  0.0  0.0  0.0  0.0  0.0  0.0  0.0  0.0   \n",
       "Percent   0.0  0.0     0.0  0.0  0.0  0.0  0.0  0.0  0.0  0.0  0.0  0.0  0.0   \n",
       "\n",
       "         V18  V17  V15   V1  V14  V13  V12  V11  V10   V9   V8   V7   V6   V5  \\\n",
       "Total    0.0  0.0  0.0  0.0  0.0  0.0  0.0  0.0  0.0  0.0  0.0  0.0  0.0  0.0   \n",
       "Percent  0.0  0.0  0.0  0.0  0.0  0.0  0.0  0.0  0.0  0.0  0.0  0.0  0.0  0.0   \n",
       "\n",
       "          V4   V3   V2  Class  \n",
       "Total    0.0  0.0  0.0    0.0  \n",
       "Percent  0.0  0.0  0.0    0.0  "
      ]
     },
     "execution_count": 6,
     "metadata": {},
     "output_type": "execute_result"
    }
   ],
   "source": [
    "total = data.isnull().sum().sort_values(ascending = False)\n",
    "percent = (data.isnull().sum()/data.isnull().count()*100).sort_values(ascending = False)\n",
    "pd.concat([total, percent], axis=1, keys=['Total', 'Percent']).transpose()"
   ]
  },
  {
   "cell_type": "markdown",
   "id": "9e2d3fa8",
   "metadata": {},
   "source": [
    " There is no missing data in the entire dataset."
   ]
  },
  {
   "cell_type": "markdown",
   "id": "ce34425d",
   "metadata": {},
   "source": [
    "#### Let's check data unbalance with respect with target value, i.e. Class."
   ]
  },
  {
   "cell_type": "code",
   "execution_count": 7,
   "id": "c6ce12db",
   "metadata": {},
   "outputs": [
    {
     "name": "stdout",
     "output_type": "stream",
     "text": [
      "Class\n",
      "0    284315\n",
      "1       492\n",
      "Name: count, dtype: int64\n"
     ]
    }
   ],
   "source": [
    "print(data['Class'].value_counts())"
   ]
  },
  {
   "cell_type": "markdown",
   "id": "001fb5a4",
   "metadata": {},
   "source": [
    "In this dataset, a value of 0 represents a legitimate transaction, while 1 indicates a fraudulent one."
   ]
  },
  {
   "cell_type": "code",
   "execution_count": 8,
   "id": "36d1d525",
   "metadata": {},
   "outputs": [
    {
     "data": {
      "image/png": "[encoded data removed]",
      "text/plain": [
       "<Figure size 1000x400 with 1 Axes>"
      ]
     },
     "metadata": {},
     "output_type": "display_data"
    }
   ],
   "source": [
    "#visualization for class label which is highest \n",
    "\n",
    "plt.figure(figsize=(10, 4))\n",
    "sns.countplot(x=data['Class'])\n",
    "plt.xticks(rotation=90)\n",
    "plt.title(f'Count Plot for Class')\n",
    "plt.show()\n"
   ]
  },
  {
   "cell_type": "code",
   "execution_count": 9,
   "id": "8f15e0d4",
   "metadata": {},
   "outputs": [
    {
     "data": {
      "application/vnd.plotly.v1+json": {
       "config": {
        "linkText": "Export to plot.ly",
        "plotlyServerURL": "https://plot.ly",
        "showLink": false
       },
       "data": [
        {
         "legendgroup": "Not Fraud",
         "marker": {
          "color": "rgb(31, 119, 180)"
         },
         "mode": "lines",
         "name": "Not Fraud",
         "showlegend": true,
         "type": "scatter",
         "x": [
          0,
          345.584,
          691.168,
          1036.752,
          1382.336,
          1727.92,
          2073.504,
          2419.088,
          2764.672,
          3110.256,
          3455.84,
          3801.424,
          4147.008,
          4492.592,
          4838.176,
          5183.76,
          5529.344,
          5874.928,
          6220.512,
          6566.096,
          6911.68,
          7257.264,
          7602.848,
          7948.432,
          8294.016,
          8639.6,
          8985.184,
          9330.768,
          9676.352,
          10021.936,
          10367.52,
          10713.104,
          11058.688,
          11404.272,
          11749.856,
          12095.44,
          12441.024,
          12786.608,
          13132.192,
          13477.776,
          13823.36,
          14168.944,
          14514.528,
          14860.112,
          15205.696,
          15551.28,
          15896.864,
          16242.448,
          16588.032,
          16933.616,
          17279.2,
          17624.784,
          17970.368,
          18315.952,
          18661.536,
          19007.12,
          19352.704,
          19698.288,
          20043.872,
          20389.456,
          20735.04,
          21080.624,
          21426.208,
          21771.792,
          22117.376,
          22462.96,
          22808.544,
          23154.128,
          23499.712,
          23845.296,
          24190.88,
          24536.464,
          24882.048,
          25227.632,
          25573.216,
          25918.8,
          26264.384,
          26609.968,
          26955.552,
          27301.136,
          27646.72,
          27992.304,
          28337.888,
          28683.472,
          29029.056,
          29374.64,
          29720.224,
          30065.808,
          30411.392,
          30756.976,
          31102.56,
          31448.144,
          31793.728,
          32139.312,
          32484.896,
          32830.48,
          33176.064,
          33521.648,
          33867.232,
          34212.816,
          34558.4,
          34903.984,
          35249.568,
          35595.152,
          35940.736,
          36286.32,
          36631.904,
          36977.488,
          37323.072,
          37668.656,
          38014.24,
          38359.824,
          38705.408,
          39050.992,
          39396.576,
          39742.16,
          40087.744,
          40433.328,
          40778.912,
          41124.496,
          41470.08,
          41815.664,
          42161.248,
          42506.832,
          42852.416,
          43198,
          43543.584,
          43889.168,
          44234.752,
          44580.336,
          44925.92,
          45271.504,
          45617.088,
          45962.672,
          46308.256,
          46653.84,
          46999.424,
          47345.008,
          47690.592,
          48036.176,
          48381.76,
          48727.344,
          49072.928,
          49418.512,
          49764.096,
          50109.68,
          50455.264,
          50800.848,
          51146.432,
          51492.016,
          51837.6,
          52183.184,
          52528.768,
          52874.352,
          53219.936,
          53565.52,
          53911.104,
          54256.688,
          54602.272,
          54947.856,
          55293.44,
          55639.024,
          55984.608,
          56330.192,
          56675.776,
          57021.36,
          57366.944,
          57712.528,
          58058.112,
          58403.696,
          58749.28,
          59094.864,
          59440.448,
          59786.032,
          60131.616,
          60477.2,
          60822.784,
          61168.368,
          61513.952,
          61859.536,
          62205.12,
          62550.704,
          62896.288,
          63241.872,
          63587.456,
          63933.04,
          64278.624,
          64624.208,
          64969.792,
          65315.376,
          65660.96,
          66006.544,
          66352.128,
          66697.712,
          67043.296,
          67388.88,
          67734.464,
          68080.048,
          68425.632,
          68771.216,
          69116.8,
          69462.384,
          69807.968,
          70153.552,
          70499.136,
          70844.72,
          71190.304,
          71535.888,
          71881.472,
          72227.056,
          72572.64,
          72918.224,
          73263.808,
          73609.392,
          73954.976,
          74300.56,
          74646.144,
          74991.728,
          75337.312,
          75682.896,
          76028.48,
          76374.064,
          76719.648,
          77065.232,
          77410.816,
          77756.4,
          78101.984,
          78447.568,
          78793.152,
          79138.736,
          79484.32,
          79829.904,
          80175.488,
          80521.072,
          80866.656,
          81212.24,
          81557.824,
          81903.408,
          82248.992,
          82594.576,
          82940.16,
          83285.744,
          83631.328,
          83976.912,
          84322.496,
          84668.08,
          85013.664,
          85359.248,
          85704.832,
          86050.416,
          86396,
          86741.584,
          87087.168,
          87432.752,
          87778.336,
          88123.92,
          88469.504,
          88815.088,
          89160.672,
          89506.256,
          89851.84,
          90197.424,
          90543.008,
          90888.592,
          91234.176,
          91579.76,
          91925.344,
          92270.928,
          92616.512,
          92962.096,
          93307.68,
          93653.264,
          93998.848,
          94344.432,
          94690.016,
          95035.6,
          95381.184,
          95726.768,
          96072.352,
          96417.936,
          96763.52,
          97109.104,
          97454.688,
          97800.272,
          98145.856,
          98491.44,
          98837.024,
          99182.608,
          99528.192,
          99873.776,
          100219.36,
          100564.944,
          100910.528,
          101256.112,
          101601.696,
          101947.28,
          102292.864,
          102638.448,
          102984.032,
          103329.616,
          103675.2,
          104020.784,
          104366.368,
          104711.952,
          105057.536,
          105403.12,
          105748.704,
          106094.288,
          106439.872,
          106785.456,
          107131.04,
          107476.624,
          107822.208,
          108167.792,
          108513.376,
          108858.96,
          109204.544,
          109550.128,
          109895.712,
          110241.296,
          110586.88,
          110932.464,
          111278.048,
          111623.632,
          111969.216,
          112314.8,
          112660.384,
          113005.968,
          113351.552,
          113697.136,
          114042.72,
          114388.304,
          114733.888,
          115079.472,
          115425.056,
          115770.64,
          116116.224,
          116461.808,
          116807.392,
          117152.976,
          117498.56,
          117844.144,
          118189.728,
          118535.312,
          118880.896,
          119226.48,
          119572.064,
          119917.648,
          120263.232,
          120608.816,
          120954.4,
          121299.984,
          121645.568,
          121991.152,
          122336.736,
          122682.32,
          123027.904,
          123373.488,
          123719.072,
          124064.656,
          124410.24,
          124755.824,
          125101.408,
          125446.992,
          125792.576,
          126138.16,
          126483.744,
          126829.328,
          127174.912,
          127520.496,
          127866.08,
          128211.664,
          128557.248,
          128902.832,
          129248.416,
          129594,
          129939.584,
          130285.168,
          130630.752,
          130976.336,
          131321.92,
          131667.504,
          132013.088,
          132358.672,
          132704.256,
          133049.84,
          133395.424,
          133741.008,
          134086.592,
          134432.176,
          134777.76,
          135123.344,
          135468.928,
          135814.512,
          136160.096,
          136505.68,
          136851.264,
          137196.848,
          137542.432,
          137888.016,
          138233.6,
          138579.184,
          138924.768,
          139270.352,
          139615.936,
          139961.52,
          140307.104,
          140652.688,
          140998.272,
          141343.856,
          141689.44,
          142035.024,
          142380.608,
          142726.192,
          143071.776,
          143417.36,
          143762.944,
          144108.528,
          144454.112,
          144799.696,
          145145.28,
          145490.864,
          145836.448,
          146182.032,
          146527.616,
          146873.2,
          147218.784,
          147564.368,
          147909.952,
          148255.536,
          148601.12,
          148946.704,
          149292.288,
          149637.872,
          149983.456,
          150329.04,
          150674.624,
          151020.208,
          151365.792,
          151711.376,
          152056.96,
          152402.544,
          152748.128,
          153093.712,
          153439.296,
          153784.88,
          154130.464,
          154476.048,
          154821.632,
          155167.216,
          155512.8,
          155858.384,
          156203.968,
          156549.552,
          156895.136,
          157240.72,
          157586.304,
          157931.888,
          158277.472,
          158623.056,
          158968.64,
          159314.224,
          159659.808,
          160005.392,
          160350.976,
          160696.56,
          161042.144,
          161387.728,
          161733.312,
          162078.896,
          162424.48,
          162770.064,
          163115.648,
          163461.232,
          163806.816,
          164152.4,
          164497.984,
          164843.568,
          165189.152,
          165534.736,
          165880.32,
          166225.904,
          166571.488,
          166917.072,
          167262.656,
          167608.24,
          167953.824,
          168299.408,
          168644.992,
          168990.576,
          169336.16,
          169681.744,
          170027.328,
          170372.912,
          170718.496,
          171064.08,
          171409.664,
          171755.248,
          172100.832,
          172446.416
         ],
         "xaxis": "x",
         "y": {
          "bdata": "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",
          "dtype": "f8"
         },
         "yaxis": "y"
        },
        {
         "legendgroup": "Fraud",
         "marker": {
          "color": "rgb(255, 127, 14)"
         },
         "mode": "lines",
         "name": "Fraud",
         "showlegend": true,
         "type": "scatter",
         "x": [
          406,
          745.884,
          1085.768,
          1425.652,
          1765.536,
          2105.42,
          2445.304,
          2785.188,
          3125.072,
          3464.956,
          3804.84,
          4144.724,
          4484.608,
          4824.492,
          5164.376,
          5504.26,
          5844.144,
          6184.028,
          6523.912,
          6863.796,
          7203.68,
          7543.564,
          7883.448,
          8223.332,
          8563.216,
          8903.1,
          9242.984,
          9582.868,
          9922.752,
          10262.636,
          10602.52,
          10942.404,
          11282.288,
          11622.172,
          11962.056,
          12301.94,
          12641.824,
          12981.708,
          13321.592,
          13661.476,
          14001.36,
          14341.244,
          14681.128,
          15021.012,
          15360.896,
          15700.78,
          16040.664,
          16380.548,
          16720.432,
          17060.316,
          17400.2,
          17740.084,
          18079.968,
          18419.852,
          18759.736,
          19099.62,
          19439.504,
          19779.388,
          20119.272,
          20459.156,
          20799.04,
          21138.924,
          21478.808,
          21818.692,
          22158.576,
          22498.46,
          22838.344,
          23178.228,
          23518.112,
          23857.996,
          24197.88,
          24537.764,
          24877.648,
          25217.532,
          25557.416,
          25897.3,
          26237.184,
          26577.068,
          26916.952,
          27256.836,
          27596.72,
          27936.604,
          28276.488,
          28616.372,
          28956.256,
          29296.14,
          29636.024,
          29975.908,
          30315.792,
          30655.676,
          30995.56,
          31335.444,
          31675.328,
          32015.212,
          32355.096,
          32694.98,
          33034.864,
          33374.748,
          33714.632,
          34054.516,
          34394.4,
          34734.284,
          35074.168,
          35414.052,
          35753.936,
          36093.82,
          36433.704,
          36773.588,
          37113.472,
          37453.356,
          37793.24,
          38133.124,
          38473.008,
          38812.892,
          39152.776,
          39492.66,
          39832.544,
          40172.428,
          40512.312,
          40852.196,
          41192.08,
          41531.964,
          41871.848,
          42211.732,
          42551.616,
          42891.5,
          43231.384,
          43571.268,
          43911.152,
          44251.036,
          44590.92,
          44930.804,
          45270.688,
          45610.572,
          45950.456,
          46290.34,
          46630.224,
          46970.108,
          47309.992,
          47649.876,
          47989.76,
          48329.644,
          48669.528,
          49009.412,
          49349.296,
          49689.18,
          50029.064,
          50368.948,
          50708.832,
          51048.716,
          51388.6,
          51728.484,
          52068.368,
          52408.252,
          52748.136,
          53088.02,
          53427.904,
          53767.788,
          54107.672,
          54447.556,
          54787.44,
          55127.324,
          55467.208,
          55807.092,
          56146.976,
          56486.86,
          56826.744,
          57166.628,
          57506.512,
          57846.396,
          58186.28,
          58526.164,
          58866.048,
          59205.932,
          59545.816,
          59885.7,
          60225.584,
          60565.468,
          60905.352,
          61245.236,
          61585.12,
          61925.004,
          62264.888,
          62604.772,
          62944.656,
          63284.54,
          63624.424,
          63964.308,
          64304.192,
          64644.076,
          64983.96,
          65323.844,
          65663.728,
          66003.612,
          66343.496,
          66683.38,
          67023.264,
          67363.148,
          67703.032,
          68042.916,
          68382.8,
          68722.684,
          69062.568,
          69402.452,
          69742.336,
          70082.22,
          70422.104,
          70761.988,
          71101.872,
          71441.756,
          71781.64,
          72121.524,
          72461.408,
          72801.292,
          73141.176,
          73481.06,
          73820.944,
          74160.828,
          74500.712,
          74840.596,
          75180.48,
          75520.364,
          75860.248,
          76200.132,
          76540.016,
          76879.9,
          77219.784,
          77559.668,
          77899.552,
          78239.436,
          78579.32,
          78919.204,
          79259.088,
          79598.972,
          79938.856,
          80278.74,
          80618.624,
          80958.508,
          81298.392,
          81638.276,
          81978.16,
          82318.044,
          82657.928,
          82997.812,
          83337.696,
          83677.58,
          84017.464,
          84357.348,
          84697.232,
          85037.116,
          85377,
          85716.884,
          86056.768,
          86396.652,
          86736.536,
          87076.42,
          87416.304,
          87756.188,
          88096.072,
          88435.956,
          88775.84,
          89115.724,
          89455.608,
          89795.492,
          90135.376,
          90475.26,
          90815.144,
          91155.028,
          91494.912,
          91834.796,
          92174.68,
          92514.564,
          92854.448,
          93194.332,
          93534.216,
          93874.1,
          94213.984,
          94553.868,
          94893.752,
          95233.636,
          95573.52,
          95913.404,
          96253.288,
          96593.172,
          96933.056,
          97272.94,
          97612.824,
          97952.708,
          98292.592,
          98632.476,
          98972.36,
          99312.244,
          99652.128,
          99992.012,
          100331.896,
          100671.78,
          101011.664,
          101351.548,
          101691.432,
          102031.316,
          102371.2,
          102711.084,
          103050.968,
          103390.852,
          103730.736,
          104070.62,
          104410.504,
          104750.388,
          105090.272,
          105430.156,
          105770.04,
          106109.924,
          106449.808,
          106789.692,
          107129.576,
          107469.46,
          107809.344,
          108149.228,
          108489.112,
          108828.996,
          109168.88,
          109508.764,
          109848.648,
          110188.532,
          110528.416,
          110868.3,
          111208.184,
          111548.068,
          111887.952,
          112227.836,
          112567.72,
          112907.604,
          113247.488,
          113587.372,
          113927.256,
          114267.14,
          114607.024,
          114946.908,
          115286.792,
          115626.676,
          115966.56,
          116306.444,
          116646.328,
          116986.212,
          117326.096,
          117665.98,
          118005.864,
          118345.748,
          118685.632,
          119025.516,
          119365.4,
          119705.284,
          120045.168,
          120385.052,
          120724.936,
          121064.82,
          121404.704,
          121744.588,
          122084.472,
          122424.356,
          122764.24,
          123104.124,
          123444.008,
          123783.892,
          124123.776,
          124463.66,
          124803.544,
          125143.428,
          125483.312,
          125823.196,
          126163.08,
          126502.964,
          126842.848,
          127182.732,
          127522.616,
          127862.5,
          128202.384,
          128542.268,
          128882.152,
          129222.036,
          129561.92,
          129901.804,
          130241.688,
          130581.572,
          130921.456,
          131261.34,
          131601.224,
          131941.108,
          132280.992,
          132620.876,
          132960.76,
          133300.644,
          133640.528,
          133980.412,
          134320.296,
          134660.18,
          135000.064,
          135339.948,
          135679.832,
          136019.716,
          136359.6,
          136699.484,
          137039.368,
          137379.252,
          137719.136,
          138059.02,
          138398.904,
          138738.788,
          139078.672,
          139418.556,
          139758.44,
          140098.324,
          140438.208,
          140778.092,
          141117.976,
          141457.86,
          141797.744,
          142137.628,
          142477.512,
          142817.396,
          143157.28,
          143497.164,
          143837.048,
          144176.932,
          144516.816,
          144856.7,
          145196.584,
          145536.468,
          145876.352,
          146216.236,
          146556.12,
          146896.004,
          147235.888,
          147575.772,
          147915.656,
          148255.54,
          148595.424,
          148935.308,
          149275.192,
          149615.076,
          149954.96,
          150294.844,
          150634.728,
          150974.612,
          151314.496,
          151654.38,
          151994.264,
          152334.148,
          152674.032,
          153013.916,
          153353.8,
          153693.684,
          154033.568,
          154373.452,
          154713.336,
          155053.22,
          155393.104,
          155732.988,
          156072.872,
          156412.756,
          156752.64,
          157092.524,
          157432.408,
          157772.292,
          158112.176,
          158452.06,
          158791.944,
          159131.828,
          159471.712,
          159811.596,
          160151.48,
          160491.364,
          160831.248,
          161171.132,
          161511.016,
          161850.9,
          162190.784,
          162530.668,
          162870.552,
          163210.436,
          163550.32,
          163890.204,
          164230.088,
          164569.972,
          164909.856,
          165249.74,
          165589.624,
          165929.508,
          166269.392,
          166609.276,
          166949.16,
          167289.044,
          167628.928,
          167968.812,
          168308.696,
          168648.58,
          168988.464,
          169328.348,
          169668.232,
          170008.116
         ],
         "xaxis": "x",
         "y": {
          "bdata": "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",
          "dtype": "f8"
         },
         "yaxis": "y"
        }
       ],
       "layout": {
        "barmode": "overlay",
        "hovermode": "closest",
        "legend": {
         "traceorder": "reversed"
        },
        "template": {
         "data": {
          "bar": [
           {
            "error_x": {
             "color": "#2a3f5f"
            },
            "error_y": {
             "color": "#2a3f5f"
            },
            "marker": {
             "line": {
              "color": "#E5ECF6",
              "width": 0.5
             },
             "pattern": {
              "fillmode": "overlay",
              "size": 10,
              "solidity": 0.2
             }
            },
            "type": "bar"
           }
          ],
          "barpolar": [
           {
            "marker": {
             "line": {
              "color": "#E5ECF6",
              "width": 0.5
             },
             "pattern": {
              "fillmode": "overlay",
              "size": 10,
              "solidity": 0.2
             }
            },
            "type": "barpolar"
           }
          ],
          "carpet": [
           {
            "aaxis": {
             "endlinecolor": "#2a3f5f",
             "gridcolor": "white",
             "linecolor": "white",
             "minorgridcolor": "white",
             "startlinecolor": "#2a3f5f"
            },
            "baxis": {
             "endlinecolor": "#2a3f5f",
             "gridcolor": "white",
             "linecolor": "white",
             "minorgridcolor": "white",
             "startlinecolor": "#2a3f5f"
            },
            "type": "carpet"
           }
          ],
          "choropleth": [
           {
            "colorbar": {
             "outlinewidth": 0,
             "ticks": ""
            },
            "type": "choropleth"
           }
          ],
          "contour": [
           {
            "colorbar": {
             "outlinewidth": 0,
             "ticks": ""
            },
            "colorscale": [
             [
              0,
              "#0d0887"
             ],
             [
              0.1111111111111111,
              "#46039f"
             ],
             [
              0.2222222222222222,
              "#7201a8"
             ],
             [
              0.3333333333333333,
              "#9c179e"
             ],
             [
              0.4444444444444444,
              "#bd3786"
             ],
             [
              0.5555555555555556,
              "#d8576b"
             ],
             [
              0.6666666666666666,
              "#ed7953"
             ],
             [
              0.7777777777777778,
              "#fb9f3a"
             ],
             [
              0.8888888888888888,
              "#fdca26"
             ],
             [
              1,
              "#f0f921"
             ]
            ],
            "type": "contour"
           }
          ],
          "contourcarpet": [
           {
            "colorbar": {
             "outlinewidth": 0,
             "ticks": ""
            },
            "type": "contourcarpet"
           }
          ],
          "heatmap": [
           {
            "colorbar": {
             "outlinewidth": 0,
             "ticks": ""
            },
            "colorscale": [
             [
              0,
              "#0d0887"
             ],
             [
              0.1111111111111111,
              "#46039f"
             ],
             [
              0.2222222222222222,
              "#7201a8"
             ],
             [
              0.3333333333333333,
              "#9c179e"
             ],
             [
              0.4444444444444444,
              "#bd3786"
             ],
             [
              0.5555555555555556,
              "#d8576b"
             ],
             [
              0.6666666666666666,
              "#ed7953"
             ],
             [
              0.7777777777777778,
              "#fb9f3a"
             ],
             [
              0.8888888888888888,
              "#fdca26"
             ],
             [
              1,
              "#f0f921"
             ]
            ],
            "type": "heatmap"
           }
          ],
          "histogram": [
           {
            "marker": {
             "pattern": {
              "fillmode": "overlay",
              "size": 10,
              "solidity": 0.2
             }
            },
            "type": "histogram"
           }
          ],
          "histogram2d": [
           {
            "colorbar": {
             "outlinewidth": 0,
             "ticks": ""
            },
            "colorscale": [
             [
              0,
              "#0d0887"
             ],
             [
              0.1111111111111111,
              "#46039f"
             ],
             [
              0.2222222222222222,
              "#7201a8"
             ],
             [
              0.3333333333333333,
              "#9c179e"
             ],
             [
              0.4444444444444444,
              "#bd3786"
             ],
             [
              0.5555555555555556,
              "#d8576b"
             ],
             [
              0.6666666666666666,
              "#ed7953"
             ],
             [
              0.7777777777777778,
              "#fb9f3a"
             ],
             [
              0.8888888888888888,
              "#fdca26"
             ],
             [
              1,
              "#f0f921"
             ]
            ],
            "type": "histogram2d"
           }
          ],
          "histogram2dcontour": [
           {
            "colorbar": {
             "outlinewidth": 0,
             "ticks": ""
            },
            "colorscale": [
             [
              0,
              "#0d0887"
             ],
             [
              0.1111111111111111,
              "#46039f"
             ],
             [
              0.2222222222222222,
              "#7201a8"
             ],
             [
              0.3333333333333333,
              "#9c179e"
             ],
             [
              0.4444444444444444,
              "#bd3786"
             ],
             [
              0.5555555555555556,
              "#d8576b"
             ],
             [
              0.6666666666666666,
              "#ed7953"
             ],
             [
              0.7777777777777778,
              "#fb9f3a"
             ],
             [
              0.8888888888888888,
              "#fdca26"
             ],
             [
              1,
              "#f0f921"
             ]
            ],
            "type": "histogram2dcontour"
           }
          ],
          "mesh3d": [
           {
            "colorbar": {
             "outlinewidth": 0,
             "ticks": ""
            },
            "type": "mesh3d"
           }
          ],
          "parcoords": [
           {
            "line": {
             "colorbar": {
              "outlinewidth": 0,
              "ticks": ""
             }
            },
            "type": "parcoords"
           }
          ],
          "pie": [
           {
            "automargin": true,
            "type": "pie"
           }
          ],
          "scatter": [
           {
            "fillpattern": {
             "fillmode": "overlay",
             "size": 10,
             "solidity": 0.2
            },
            "type": "scatter"
           }
          ],
          "scatter3d": [
           {
            "line": {
             "colorbar": {
              "outlinewidth": 0,
              "ticks": ""
             }
            },
            "marker": {
             "colorbar": {
              "outlinewidth": 0,
              "ticks": ""
             }
            },
            "type": "scatter3d"
           }
          ],
          "scattercarpet": [
           {
            "marker": {
             "colorbar": {
              "outlinewidth": 0,
              "ticks": ""
             }
            },
            "type": "scattercarpet"
           }
          ],
          "scattergeo": [
           {
            "marker": {
             "colorbar": {
              "outlinewidth": 0,
              "ticks": ""
             }
            },
            "type": "scattergeo"
           }
          ],
          "scattergl": [
           {
            "marker": {
             "colorbar": {
              "outlinewidth": 0,
              "ticks": ""
             }
            },
            "type": "scattergl"
           }
          ],
          "scattermap": [
           {
            "marker": {
             "colorbar": {
              "outlinewidth": 0,
              "ticks": ""
             }
            },
            "type": "scattermap"
           }
          ],
          "scattermapbox": [
           {
            "marker": {
             "colorbar": {
              "outlinewidth": 0,
              "ticks": ""
             }
            },
            "type": "scattermapbox"
           }
          ],
          "scatterpolar": [
           {
            "marker": {
             "colorbar": {
              "outlinewidth": 0,
              "ticks": ""
             }
            },
            "type": "scatterpolar"
           }
          ],
          "scatterpolargl": [
           {
            "marker": {
             "colorbar": {
              "outlinewidth": 0,
              "ticks": ""
             }
            },
            "type": "scatterpolargl"
           }
          ],
          "scatterternary": [
           {
            "marker": {
             "colorbar": {
              "outlinewidth": 0,
              "ticks": ""
             }
            },
            "type": "scatterternary"
           }
          ],
          "surface": [
           {
            "colorbar": {
             "outlinewidth": 0,
             "ticks": ""
            },
            "colorscale": [
             [
              0,
              "#0d0887"
             ],
             [
              0.1111111111111111,
              "#46039f"
             ],
             [
              0.2222222222222222,
              "#7201a8"
             ],
             [
              0.3333333333333333,
              "#9c179e"
             ],
             [
              0.4444444444444444,
              "#bd3786"
             ],
             [
              0.5555555555555556,
              "#d8576b"
             ],
             [
              0.6666666666666666,
              "#ed7953"
             ],
             [
              0.7777777777777778,
              "#fb9f3a"
             ],
             [
              0.8888888888888888,
              "#fdca26"
             ],
             [
              1,
              "#f0f921"
             ]
            ],
            "type": "surface"
           }
          ],
          "table": [
           {
            "cells": {
             "fill": {
              "color": "#EBF0F8"
             },
             "line": {
              "color": "white"
             }
            },
            "header": {
             "fill": {
              "color": "#C8D4E3"
             },
             "line": {
              "color": "white"
             }
            },
            "type": "table"
           }
          ]
         },
         "layout": {
          "annotationdefaults": {
           "arrowcolor": "#2a3f5f",
           "arrowhead": 0,
           "arrowwidth": 1
          },
          "autotypenumbers": "strict",
          "coloraxis": {
           "colorbar": {
            "outlinewidth": 0,
            "ticks": ""
           }
          },
          "colorscale": {
           "diverging": [
            [
             0,
             "#8e0152"
            ],
            [
             0.1,
             "#c51b7d"
            ],
            [
             0.2,
             "#de77ae"
            ],
            [
             0.3,
             "#f1b6da"
            ],
            [
             0.4,
             "#fde0ef"
            ],
            [
             0.5,
             "#f7f7f7"
            ],
            [
             0.6,
             "#e6f5d0"
            ],
            [
             0.7,
             "#b8e186"
            ],
            [
             0.8,
             "#7fbc41"
            ],
            [
             0.9,
             "#4d9221"
            ],
            [
             1,
             "#276419"
            ]
           ],
           "sequential": [
            [
             0,
             "#0d0887"
            ],
            [
             0.1111111111111111,
             "#46039f"
            ],
            [
             0.2222222222222222,
             "#7201a8"
            ],
            [
             0.3333333333333333,
             "#9c179e"
            ],
            [
             0.4444444444444444,
             "#bd3786"
            ],
            [
             0.5555555555555556,
             "#d8576b"
            ],
            [
             0.6666666666666666,
             "#ed7953"
            ],
            [
             0.7777777777777778,
             "#fb9f3a"
            ],
            [
             0.8888888888888888,
             "#fdca26"
            ],
            [
             1,
             "#f0f921"
            ]
           ],
           "sequentialminus": [
            [
             0,
             "#0d0887"
            ],
            [
             0.1111111111111111,
             "#46039f"
            ],
            [
             0.2222222222222222,
             "#7201a8"
            ],
            [
             0.3333333333333333,
             "#9c179e"
            ],
            [
             0.4444444444444444,
             "#bd3786"
            ],
            [
             0.5555555555555556,
             "#d8576b"
            ],
            [
             0.6666666666666666,
             "#ed7953"
            ],
            [
             0.7777777777777778,
             "#fb9f3a"
            ],
            [
             0.8888888888888888,
             "#fdca26"
            ],
            [
             1,
             "#f0f921"
            ]
           ]
          },
          "colorway": [
           "#636efa",
           "#EF553B",
           "#00cc96",
           "#ab63fa",
           "#FFA15A",
           "#19d3f3",
           "#FF6692",
           "#B6E880",
           "#FF97FF",
           "#FECB52"
          ],
          "font": {
           "color": "#2a3f5f"
          },
          "geo": {
           "bgcolor": "white",
           "lakecolor": "white",
           "landcolor": "#E5ECF6",
           "showlakes": true,
           "showland": true,
           "subunitcolor": "white"
          },
          "hoverlabel": {
           "align": "left"
          },
          "hovermode": "closest",
          "mapbox": {
           "style": "light"
          },
          "paper_bgcolor": "white",
          "plot_bgcolor": "#E5ECF6",
          "polar": {
           "angularaxis": {
            "gridcolor": "white",
            "linecolor": "white",
            "ticks": ""
           },
           "bgcolor": "#E5ECF6",
           "radialaxis": {
            "gridcolor": "white",
            "linecolor": "white",
            "ticks": ""
           }
          },
          "scene": {
           "xaxis": {
            "backgroundcolor": "#E5ECF6",
            "gridcolor": "white",
            "gridwidth": 2,
            "linecolor": "white",
            "showbackground": true,
            "ticks": "",
            "zerolinecolor": "white"
           },
           "yaxis": {
            "backgroundcolor": "#E5ECF6",
            "gridcolor": "white",
            "gridwidth": 2,
            "linecolor": "white",
            "showbackground": true,
            "ticks": "",
            "zerolinecolor": "white"
           },
           "zaxis": {
            "backgroundcolor": "#E5ECF6",
            "gridcolor": "white",
            "gridwidth": 2,
            "linecolor": "white",
            "showbackground": true,
            "ticks": "",
            "zerolinecolor": "white"
           }
          },
          "shapedefaults": {
           "line": {
            "color": "#2a3f5f"
           }
          },
          "ternary": {
           "aaxis": {
            "gridcolor": "white",
            "linecolor": "white",
            "ticks": ""
           },
           "baxis": {
            "gridcolor": "white",
            "linecolor": "white",
            "ticks": ""
           },
           "bgcolor": "#E5ECF6",
           "caxis": {
            "gridcolor": "white",
            "linecolor": "white",
            "ticks": ""
           }
          },
          "title": {
           "x": 0.05
          },
          "xaxis": {
           "automargin": true,
           "gridcolor": "white",
           "linecolor": "white",
           "ticks": "",
           "title": {
            "standoff": 15
           },
           "zerolinecolor": "white",
           "zerolinewidth": 2
          },
          "yaxis": {
           "automargin": true,
           "gridcolor": "white",
           "linecolor": "white",
           "ticks": "",
           "title": {
            "standoff": 15
           },
           "zerolinecolor": "white",
           "zerolinewidth": 2
          }
         }
        },
        "title": {
         "text": "Credit Card Transactions Time Density Plot"
        },
        "xaxis": {
         "anchor": "y2",
         "domain": [
          0,
          1
         ],
         "title": {
          "text": "Time [s]"
         },
         "zeroline": false
        },
        "yaxis": {
         "anchor": "free",
         "domain": [
          0,
          1
         ],
         "position": 0
        }
       }
      }
     },
     "metadata": {},
     "output_type": "display_data"
    }
   ],
   "source": [
    "class_0 = data.loc[data['Class'] == 0][\"Time\"]\n",
    "class_1 = data.loc[data['Class'] == 1][\"Time\"]\n",
    "\n",
    "hist_data = [class_0, class_1]\n",
    "group_labels = ['Not Fraud', 'Fraud']\n",
    "\n",
    "fig = ff.create_distplot(hist_data, group_labels, show_hist=False, show_rug=False)\n",
    "fig['layout'].update(title='Credit Card Transactions Time Density Plot', xaxis=dict(title='Time [s]'))\n",
    "iplot(fig, filename='dist_only')"
   ]
  },
  {
   "cell_type": "markdown",
   "id": "87e71d7c",
   "metadata": {},
   "source": [
    "\n",
    "Fraudulent transactions have a distribution more even than valid transactions - are equaly distributed in time, including the low real transaction times, during night in Europe timezone.\n",
    "\n",
    "Let's look into more details to the time distribution of both classes transaction, as well as to aggregated values of transaction count and amount, per hour. We assume (based on observation of the time distribution of transactions) that the time unit is second."
   ]
  },
  {
   "cell_type": "markdown",
   "id": "37c77088",
   "metadata": {},
   "source": [
    "#### Skewness checking"
   ]
  },
  {
   "cell_type": "code",
   "execution_count": 10,
   "id": "aadadc20",
   "metadata": {},
   "outputs": [
    {
     "data": {
      "image/png": "[encoded data removed]",
      "text/plain": [
       "<Figure size 500x500 with 1 Axes>"
      ]
     },
     "metadata": {},
     "output_type": "display_data"
    },
    {
     "data": {
      "image/png": "[encoded data removed]",
      "text/plain": [
       "<Figure size 500x500 with 1 Axes>"
      ]
     },
     "metadata": {},
     "output_type": "display_data"
    },
    {
     "data": {
      "image/png": "[encoded data removed]",
      "text/plain": [
       "<Figure size 500x500 with 1 Axes>"
      ]
     },
     "metadata": {},
     "output_type": "display_data"
    },
    {
     "data": {
      "image/png": "[encoded data removed]",
      "text/plain": [
       "<Figure size 500x500 with 1 Axes>"
      ]
     },
     "metadata": {},
     "output_type": "display_data"
    },
    {
     "data": {
      "image/png": "[encoded data removed]",
      "text/plain": [
       "<Figure size 500x500 with 1 Axes>"
      ]
     },
     "metadata": {},
     "output_type": "display_data"
    },
    {
     "data": {
      "image/png": "[encoded data removed]",
      "text/plain": [
       "<Figure size 500x500 with 1 Axes>"
      ]
     },
     "metadata": {},
     "output_type": "display_data"
    },
    {
     "data": {
      "image/png": "[encoded data removed]",
      "text/plain": [
       "<Figure size 500x500 with 1 Axes>"
      ]
     },
     "metadata": {},
     "output_type": "display_data"
    },
    {
     "data": {
      "image/png": "[encoded data removed]",
      "text/plain": [
       "<Figure size 500x500 with 1 Axes>"
      ]
     },
     "metadata": {},
     "output_type": "display_data"
    },
    {
     "data": {
      "image/png": "[encoded data removed]",
      "text/plain": [
       "<Figure size 500x500 with 1 Axes>"
      ]
     },
     "metadata": {},
     "output_type": "display_data"
    },
    {
     "data": {
      "image/png": "[encoded data removed]",
      "text/plain": [
       "<Figure size 500x500 with 1 Axes>"
      ]
     },
     "metadata": {},
     "output_type": "display_data"
    },
    {
     "data": {
      "image/png": "[encoded data removed]",
      "text/plain": [
       "<Figure size 500x500 with 1 Axes>"
      ]
     },
     "metadata": {},
     "output_type": "display_data"
    },
    {
     "data": {
      "image/png": "[encoded data removed]",
      "text/plain": [
       "<Figure size 500x500 with 1 Axes>"
      ]
     },
     "metadata": {},
     "output_type": "display_data"
    },
    {
     "data": {
      "image/png": "[encoded data removed]",
      "text/plain": [
       "<Figure size 500x500 with 1 Axes>"
      ]
     },
     "metadata": {},
     "output_type": "display_data"
    },
    {
     "data": {
      "image/png": "[encoded data removed]",
      "text/plain": [
       "<Figure size 500x500 with 1 Axes>"
      ]
     },
     "metadata": {},
     "output_type": "display_data"
    },
    {
     "data": {
      "image/png": "[encoded data removed]",
      "text/plain": [
       "<Figure size 500x500 with 1 Axes>"
      ]
     },
     "metadata": {},
     "output_type": "display_data"
    },
    {
     "data": {
      "image/png": "[encoded data removed]",
      "text/plain": [
       "<Figure size 500x500 with 1 Axes>"
      ]
     },
     "metadata": {},
     "output_type": "display_data"
    },
    {
     "data": {
      "image/png": "[encoded data removed]",
      "text/plain": [
       "<Figure size 500x500 with 1 Axes>"
      ]
     },
     "metadata": {},
     "output_type": "display_data"
    },
    {
     "data": {
      "image/png": "[encoded data removed]",
      "text/plain": [
       "<Figure size 500x500 with 1 Axes>"
      ]
     },
     "metadata": {},
     "output_type": "display_data"
    },
    {
     "data": {
      "image/png": "[encoded data removed]",
      "text/plain": [
       "<Figure size 500x500 with 1 Axes>"
      ]
     },
     "metadata": {},
     "output_type": "display_data"
    },
    {
     "data": {
      "image/png": "[encoded data removed]",
      "text/plain": [
       "<Figure size 500x500 with 1 Axes>"
      ]
     },
     "metadata": {},
     "output_type": "display_data"
    },
    {
     "data": {
      "image/png": "[encoded data removed]",
      "text/plain": [
       "<Figure size 500x500 with 1 Axes>"
      ]
     },
     "metadata": {},
     "output_type": "display_data"
    },
    {
     "data": {
      "image/png": "[encoded data removed]",
      "text/plain": [
       "<Figure size 500x500 with 1 Axes>"
      ]
     },
     "metadata": {},
     "output_type": "display_data"
    },
    {
     "data": {
      "image/png": "[encoded data removed]",
      "text/plain": [
       "<Figure size 500x500 with 1 Axes>"
      ]
     },
     "metadata": {},
     "output_type": "display_data"
    },
    {
     "data": {
      "image/png": "[encoded data removed]",
      "text/plain": [
       "<Figure size 500x500 with 1 Axes>"
      ]
     },
     "metadata": {},
     "output_type": "display_data"
    },
    {
     "data": {
      "image/png": "[encoded data removed]",
      "text/plain": [
       "<Figure size 500x500 with 1 Axes>"
      ]
     },
     "metadata": {},
     "output_type": "display_data"
    },
    {
     "data": {
      "image/png": "[encoded data removed]",
      "text/plain": [
       "<Figure size 500x500 with 1 Axes>"
      ]
     },
     "metadata": {},
     "output_type": "display_data"
    },
    {
     "data": {
      "image/png": "[encoded data removed]",
      "text/plain": [
       "<Figure size 500x500 with 1 Axes>"
      ]
     },
     "metadata": {},
     "output_type": "display_data"
    },
    {
     "data": {
      "image/png": "[encoded data removed]",
      "text/plain": [
       "<Figure size 500x500 with 1 Axes>"
      ]
     },
     "metadata": {},
     "output_type": "display_data"
    },
    {
     "data": {
      "image/png": "[encoded data removed]",
      "text/plain": [
       "<Figure size 500x500 with 1 Axes>"
      ]
     },
     "metadata": {},
     "output_type": "display_data"
    },
    {
     "data": {
      "image/png": "[encoded data removed]",
      "text/plain": [
       "<Figure size 500x500 with 1 Axes>"
      ]
     },
     "metadata": {},
     "output_type": "display_data"
    },
    {
     "data": {
      "image/png": "[encoded data removed]",
      "text/plain": [
       "<Figure size 500x500 with 1 Axes>"
      ]
     },
     "metadata": {},
     "output_type": "display_data"
    }
   ],
   "source": [
    "for i in data.columns:\n",
    "    sns.displot(data[i])\n",
    "    plt.show()"
   ]
  },
  {
   "cell_type": "markdown",
   "id": "f8ee3bd7",
   "metadata": {},
   "source": [
    "Here we can observe that the hole dataset has no skewness and kurtosis means the data has been equally dispatured on both sides . so no need to standardize the dataset, directly we can implement preprocessing techinques on dataset.\n",
    "\n",
    "Here the dataset contains all nuerical columns, so no need to implement the labelencoding techinque on the dataset"
   ]
  },
  {
   "cell_type": "markdown",
   "id": "2bcf7d2a",
   "metadata": {},
   "source": [
    "# Preprocessing The data"
   ]
  },
  {
   "cell_type": "code",
   "execution_count": 11,
   "id": "0f6923a4",
   "metadata": {},
   "outputs": [],
   "source": [
    "# seperating Features and target\n",
    "\n",
    "x = data.drop('Class', axis=1)\n",
    "y = data['Class']"
   ]
  },
  {
   "cell_type": "markdown",
   "id": "8cdc6c95",
   "metadata": {},
   "source": [
    "#### Apply SMOTE to handle imbalance"
   ]
  },
  {
   "cell_type": "code",
   "execution_count": 12,
   "id": "8e2975de",
   "metadata": {},
   "outputs": [
    {
     "name": "stdout",
     "output_type": "stream",
     "text": [
      "Original dataset shape: (284807, 30)\n",
      "Resampled dataset shape: (568630, 30)\n"
     ]
    }
   ],
   "source": [
    "# checking umbalanaced data in the dataset\n",
    "\n",
    "smote = SMOTE(random_state=42)\n",
    "x_resampled, y_resampled = smote.fit_resample(x, y)\n",
    "\n",
    "print(f'Original dataset shape: {x.shape}')\n",
    "print(f'Resampled dataset shape: {x_resampled.shape}')"
   ]
  },
  {
   "cell_type": "markdown",
   "id": "1f9bc98a",
   "metadata": {},
   "source": [
    "# Model selection"
   ]
  },
  {
   "cell_type": "code",
   "execution_count": 13,
   "id": "6ed7f0bf",
   "metadata": {},
   "outputs": [
    {
     "name": "stdout",
     "output_type": "stream",
     "text": [
      "x_train (454904, 30)\n",
      "y_train (454904,)\n",
      "x_test (113726, 30)\n",
      "y_test (113726,)\n"
     ]
    }
   ],
   "source": [
    "#model selection for splitting the data into train and test\n",
    "\n",
    "x_train, x_test, y_train, y_test = train_test_split(x_resampled,y_resampled,test_size=0.2,random_state=42)\n",
    "print('x_train',x_train.shape)\n",
    "print('y_train',y_train.shape)\n",
    "print('x_test',x_test.shape)\n",
    "print('y_test',y_test.shape)"
   ]
  },
  {
   "cell_type": "markdown",
   "id": "cc03de8a",
   "metadata": {},
   "source": [
    "# Model Building"
   ]
  },
  {
   "cell_type": "code",
   "execution_count": 14,
   "id": "b68924bd",
   "metadata": {},
   "outputs": [],
   "source": [
    "#Here i am choosing Logistic Regression for clasiffication problem\n",
    "\n",
    "LR = LogisticRegression()\n",
    "LR.fit(x_train,y_train)\n",
    "y_test_pred = LR.predict(x_test)"
   ]
  },
  {
   "cell_type": "markdown",
   "id": "2c5a0ab6",
   "metadata": {},
   "source": [
    "# Model Evaluation¶\n",
    "here i am using different evaluation metrics to understand a machine learning model's performance, as well as its strengths and weaknesses"
   ]
  },
  {
   "cell_type": "code",
   "execution_count": 15,
   "id": "62206e76",
   "metadata": {},
   "outputs": [
    {
     "name": "stdout",
     "output_type": "stream",
     "text": [
      "classification_report:\n",
      "\n",
      "               precision    recall  f1-score   support\n",
      "\n",
      "           0       0.97      0.98      0.97     56750\n",
      "           1       0.98      0.97      0.97     56976\n",
      "\n",
      "    accuracy                           0.97    113726\n",
      "   macro avg       0.97      0.97      0.97    113726\n",
      "weighted avg       0.97      0.97      0.97    113726\n",
      "\n",
      "\n",
      "\n",
      "accuracy_socre: 0.9739021859557181\n",
      "\n",
      "\n",
      "confusion_matrix:\n",
      " [[55736  1014]\n",
      " [ 1954 55022]]\n"
     ]
    },
    {
     "data": {
      "image/png": "[encoded data removed]",
      "text/plain": [
       "<Figure size 1000x500 with 2 Axes>"
      ]
     },
     "metadata": {},
     "output_type": "display_data"
    }
   ],
   "source": [
    "# Create a heatmap visualization\n",
    "print('classification_report:\\n\\n',classification_report(y_test,y_test_pred))\n",
    "\n",
    "print(\"\\n\\naccuracy_socre:\",accuracy_score(y_test,y_test_pred))\n",
    "\n",
    "con_mat = confusion_matrix(y_test, y_test_pred)\n",
    "print(\"\\n\\nconfusion_matrix:\\n\",con_mat)\n",
    "plt.figure(figsize=(10,5))\n",
    "sns.heatmap(con_mat, annot=True, cmap=\"coolwarm\", xticklabels=[\"Class 0\", \"Class 1\"], yticklabels=[\"Class 0\", \"Class 1\"])\n",
    "plt.xlabel(\"Predicted Labels\")\n",
    "plt.ylabel(\"True Labels\")\n",
    "plt.title(\"Confusion Matrix Heatmap\")\n",
    "plt.show()"
   ]
  },
  {
   "cell_type": "markdown",
   "id": "e9eb45af",
   "metadata": {},
   "source": [
    "# Conclusion\n",
    "This project demonstrates the use of logistic regression for fraud detection, a critical task in financial sectors. The model performed well with high accuracy and balanced precision-recall, making it reliable for detecting fraudulent activities. While logistic regression is interpretable and efficient, further enhancements could be made using more complex models such as Random Forests, XGBoost, or neural networks, especially in cases of severe class imbalance or nonlinear relationships.\n",
    "\n",
    "The end-to-end pipeline from data preprocessing to evaluation ensures the model's reproducibility and clarity, providing a solid foundation for further experimentation or deployment in real-world systems."
   ]
  },
  {
   "cell_type": "markdown",
   "id": "65b6f7a8",
   "metadata": {},
   "source": []
  }
 ],
 "metadata": {
  "kernelspec": {
   "display_name": "fraud_env (3.11.9)",
   "language": "python",
   "name": "python3"
  },
  "language_info": {
   "codemirror_mode": {
    "name": "ipython",
    "version": 3
   },
   "file_extension": ".py",
   "mimetype": "text/x-python",
   "name": "python",
   "nbconvert_exporter": "python",
   "pygments_lexer": "ipython3",
   "version": "3.11.9"
  }
 },
 "nbformat": 4,
 "nbformat_minor": 5
}
